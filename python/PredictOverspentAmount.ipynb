{
 "cells": [
  {
   "cell_type": "code",
   "execution_count": 119,
   "id": "a58e4c02-3080-4955-84fe-a2101010dbf5",
   "metadata": {},
   "outputs": [],
   "source": [
    "#IMPORTS\n",
    "import pm4py\n",
    "import sklearn\n",
    "import pandas as pd\n",
    "import numpy as np\n",
    "import matplotlib.pyplot as plt\n",
    "\n",
    "from sklearn.ensemble import RandomForestRegressor, RandomForestClassifier\n",
    "from sklearn.model_selection import GridSearchCV\n",
    "from sklearn.metrics import mean_absolute_error, r2_score, accuracy_score, f1_score, confusion_matrix\n",
    "from pm4py.algo.transformation.log_to_features import algorithm as log_to_features\n",
    "from itertools import product"
   ]
  },
  {
   "cell_type": "markdown",
   "id": "b8df9f9b-259e-4d37-b64c-0af17df2291b",
   "metadata": {
    "jp-MarkdownHeadingCollapsed": true,
    "tags": []
   },
   "source": [
    "# Prepare the Data\n",
    "The code below is used to generate the CVS file. You can also skip running it and instead load the CSV directly a few cells below."
   ]
  },
  {
   "cell_type": "markdown",
   "id": "eeaed301-36b7-4523-83da-25fd6f85f8e9",
   "metadata": {},
   "source": [
    "First, make sure the permit log is in the current directory, then run the code below"
   ]
  },
  {
   "cell_type": "code",
   "execution_count": 120,
   "id": "bb45e43b-163e-462f-b86d-0510bb9ac2c0",
   "metadata": {},
   "outputs": [
    {
     "data": {
      "application/vnd.jupyter.widget-view+json": {
       "model_id": "3b2e86d02907423381c189a63a6b5e94",
       "version_major": 2,
       "version_minor": 0
      },
      "text/plain": [
       "parsing log, completed traces ::   0%|          | 0/7065 [00:00<?, ?it/s]"
      ]
     },
     "metadata": {},
     "output_type": "display_data"
    }
   ],
   "source": [
    "travel_permits = pm4py.read_xes('PermitLog.xes.gz')"
   ]
  },
  {
   "cell_type": "markdown",
   "id": "900e1405-73f8-4be3-a1f6-03bc6fb96538",
   "metadata": {},
   "source": [
    "First, we make sure we have the prefixes we need, we just want the events leading up to 'Start trip'"
   ]
  },
  {
   "cell_type": "code",
   "execution_count": 121,
   "id": "5e369994-66d8-4764-b780-ffcd53f27982",
   "metadata": {},
   "outputs": [],
   "source": [
    "travel_prefixes = pm4py.filtering.filter_prefixes(travel_permits, 'Start trip')"
   ]
  },
  {
   "cell_type": "code",
   "execution_count": 122,
   "id": "ce862e74-17cc-4230-92ec-cf5095138874",
   "metadata": {},
   "outputs": [
    {
     "name": "stdout",
     "output_type": "stream",
     "text": [
      "Permit SUBMITTED by EMPLOYEE\n",
      "Permit FINAL_APPROVED by SUPERVISOR\n",
      "Start trip\n",
      "End trip\n",
      "Declaration SUBMITTED by EMPLOYEE\n",
      "Declaration FINAL_APPROVED by SUPERVISOR\n",
      "Request Payment\n",
      "Payment Handled\n",
      "\n",
      "Permit SUBMITTED by EMPLOYEE\n",
      "Permit FINAL_APPROVED by SUPERVISOR\n"
     ]
    }
   ],
   "source": [
    "#quick check to see if we got what we wanted\n",
    "i = 39\n",
    "for e in travel_permits[i]:\n",
    "    print(e['concept:name'])\n",
    "print() \n",
    "for e in travel_prefixes[i]:\n",
    "    print(e['concept:name'])"
   ]
  },
  {
   "cell_type": "markdown",
   "id": "9d15dfa1-941d-4d0e-8bb5-d1762d30018c",
   "metadata": {},
   "source": [
    "Check if a declaration was submitted before the trip started"
   ]
  },
  {
   "cell_type": "code",
   "execution_count": 123,
   "id": "2e9f0b85-eec5-4096-a150-fe9fd9a0f7f6",
   "metadata": {},
   "outputs": [
    {
     "data": {
      "text/plain": [
       "(7065, 1)"
      ]
     },
     "execution_count": 123,
     "metadata": {},
     "output_type": "execute_result"
    }
   ],
   "source": [
    "decl_bools = np.zeros((7065,1))\n",
    "\n",
    "for i,t in enumerate(travel_prefixes):\n",
    "    for e in t:\n",
    "        if e['concept:name'] == \"Declaration SUBMITTED by EMPLOYEE\":\n",
    "            decl_bools[i,0] = 1\n",
    "            \n",
    "decl_bools.shape"
   ]
  },
  {
   "cell_type": "markdown",
   "id": "25647453-9703-4174-86e8-1aa80c0d0105",
   "metadata": {},
   "source": [
    "Now extract the features we are interested in from the prefixes:"
   ]
  },
  {
   "cell_type": "code",
   "execution_count": 124,
   "id": "5ed013f1-5db1-4401-9819-520a7767dd9f",
   "metadata": {},
   "outputs": [
    {
     "data": {
      "text/plain": [
       "(7065, 2)"
      ]
     },
     "execution_count": 124,
     "metadata": {},
     "output_type": "execute_result"
    }
   ],
   "source": [
    "data_regr, _ = log_to_features.apply(travel_prefixes, parameters={'num_tr_attr': [\"RequestedBudget\",\"OverspentAmount\"]})\n",
    "data_class, _ = log_to_features.apply(travel_prefixes, parameters={'num_tr_attr': [\"RequestedBudget\",\"Overspent\"]})\n",
    "\n",
    "data_regr = np.array(data_regr).round(2)\n",
    "data_class = np.array(data_class).round(2)\n",
    "data_class.shape"
   ]
  },
  {
   "cell_type": "markdown",
   "id": "21206dbc-9196-4108-a2ed-7741932eeb8f",
   "metadata": {},
   "source": [
    "However, we still need trip duration, which we will need to compute manually. We will use number of days to denote the duration"
   ]
  },
  {
   "cell_type": "code",
   "execution_count": 125,
   "id": "d62cdf15-5449-4eb8-afbd-2bc51660a2cc",
   "metadata": {},
   "outputs": [
    {
     "data": {
      "text/plain": [
       "(7065, 1)"
      ]
     },
     "execution_count": 125,
     "metadata": {},
     "output_type": "execute_result"
    }
   ],
   "source": [
    "trip_durations = []\n",
    "for trace in travel_permits:\n",
    "    for e in trace:\n",
    "        if e['concept:name'] == \"Start trip\": #note the time the trip started\n",
    "            start_time = e['time:timestamp']\n",
    "        elif e['concept:name'] == \"End trip\": #note the time the trip ended\n",
    "            end_time = e['time:timestamp']\n",
    "            break\n",
    "    trip_durations.append((end_time-start_time).days) #save the trip duration in days\n",
    "    \n",
    "trip_durations = np.array(trip_durations).reshape((-1,1))\n",
    "trip_durations.shape"
   ]
  },
  {
   "cell_type": "markdown",
   "id": "5c7bee2c-3b37-453f-8bc4-e808d705e940",
   "metadata": {},
   "source": [
    "And we do the same in order to get the duration between the permit being submitted and the permit being approved"
   ]
  },
  {
   "cell_type": "code",
   "execution_count": 126,
   "id": "a5981c1f-967e-43b3-8410-f953680c7dbb",
   "metadata": {},
   "outputs": [
    {
     "data": {
      "text/plain": [
       "(7065, 1)"
      ]
     },
     "execution_count": 126,
     "metadata": {},
     "output_type": "execute_result"
    }
   ],
   "source": [
    "perm_durations = []\n",
    "for trace in travel_permits:\n",
    "    started = False\n",
    "    for e in trace:\n",
    "        if e['concept:name'].startswith(\"Permit\") and not started: #start time is the first time permit is mentioned\n",
    "            started = True\n",
    "            start_time = e['time:timestamp']\n",
    "            end_time = e['time:timestamp']\n",
    "        elif e['concept:name'].startswith(\"Permit\"): #end time is the last time permit is mentioned\n",
    "            end_time = e['time:timestamp']\n",
    "    perm_durations.append((end_time-start_time).days) #save duration of permit handling in days\n",
    "    \n",
    "perm_durations = np.array(perm_durations).reshape((-1,1))\n",
    "perm_durations.shape"
   ]
  },
  {
   "cell_type": "markdown",
   "id": "a90d6f45-e9d7-4edb-8eff-4b0dda77e093",
   "metadata": {},
   "source": [
    "Now we merge all the features we extracted into one array, but three different versions for different applications"
   ]
  },
  {
   "cell_type": "code",
   "execution_count": 127,
   "id": "ca24b6c0-eaec-4a65-acab-4362c9715dd6",
   "metadata": {},
   "outputs": [
    {
     "data": {
      "text/plain": [
       "(7065, 5)"
      ]
     },
     "execution_count": 127,
     "metadata": {},
     "output_type": "execute_result"
    }
   ],
   "source": [
    "final_data_regr = np.concatenate((decl_bools, trip_durations, perm_durations, data_regr), axis=1)\n",
    "final_data_regr_abs = np.absolute(np.concatenate((decl_bools, trip_durations, perm_durations, data_regr), axis=1))\n",
    "final_data_class = np.concatenate((decl_bools, trip_durations, perm_durations, data_class), axis=1)\n",
    "final_data_class.shape"
   ]
  },
  {
   "cell_type": "markdown",
   "id": "f57e01fa-48de-472e-8458-c250f81127ab",
   "metadata": {},
   "source": [
    "Some exploration of the data we have now:"
   ]
  },
  {
   "cell_type": "code",
   "execution_count": 128,
   "id": "05f50940-3e6b-487f-8abf-bf54f9e39194",
   "metadata": {},
   "outputs": [
    {
     "data": {
      "text/html": [
       "<div>\n",
       "<style scoped>\n",
       "    .dataframe tbody tr th:only-of-type {\n",
       "        vertical-align: middle;\n",
       "    }\n",
       "\n",
       "    .dataframe tbody tr th {\n",
       "        vertical-align: top;\n",
       "    }\n",
       "\n",
       "    .dataframe thead th {\n",
       "        text-align: right;\n",
       "    }\n",
       "</style>\n",
       "<table border=\"1\" class=\"dataframe\">\n",
       "  <thead>\n",
       "    <tr style=\"text-align: right;\">\n",
       "      <th></th>\n",
       "      <th>0</th>\n",
       "      <th>1</th>\n",
       "      <th>2</th>\n",
       "      <th>3</th>\n",
       "      <th>4</th>\n",
       "    </tr>\n",
       "  </thead>\n",
       "  <tbody>\n",
       "    <tr>\n",
       "      <th>0</th>\n",
       "      <td>0.0</td>\n",
       "      <td>0.0</td>\n",
       "      <td>0.0</td>\n",
       "      <td>41.61</td>\n",
       "      <td>0.00</td>\n",
       "    </tr>\n",
       "    <tr>\n",
       "      <th>1</th>\n",
       "      <td>0.0</td>\n",
       "      <td>31.0</td>\n",
       "      <td>0.0</td>\n",
       "      <td>795.54</td>\n",
       "      <td>-329.51</td>\n",
       "    </tr>\n",
       "    <tr>\n",
       "      <th>2</th>\n",
       "      <td>0.0</td>\n",
       "      <td>0.0</td>\n",
       "      <td>0.0</td>\n",
       "      <td>51.79</td>\n",
       "      <td>5.18</td>\n",
       "    </tr>\n",
       "    <tr>\n",
       "      <th>3</th>\n",
       "      <td>0.0</td>\n",
       "      <td>21.0</td>\n",
       "      <td>0.0</td>\n",
       "      <td>0.00</td>\n",
       "      <td>0.00</td>\n",
       "    </tr>\n",
       "    <tr>\n",
       "      <th>4</th>\n",
       "      <td>0.0</td>\n",
       "      <td>364.0</td>\n",
       "      <td>0.0</td>\n",
       "      <td>6020.79</td>\n",
       "      <td>-2645.71</td>\n",
       "    </tr>\n",
       "    <tr>\n",
       "      <th>5</th>\n",
       "      <td>0.0</td>\n",
       "      <td>2.0</td>\n",
       "      <td>0.0</td>\n",
       "      <td>245.06</td>\n",
       "      <td>-203.97</td>\n",
       "    </tr>\n",
       "    <tr>\n",
       "      <th>6</th>\n",
       "      <td>0.0</td>\n",
       "      <td>6.0</td>\n",
       "      <td>0.0</td>\n",
       "      <td>0.00</td>\n",
       "      <td>0.00</td>\n",
       "    </tr>\n",
       "    <tr>\n",
       "      <th>7</th>\n",
       "      <td>0.0</td>\n",
       "      <td>3.0</td>\n",
       "      <td>0.0</td>\n",
       "      <td>1015.98</td>\n",
       "      <td>-300.01</td>\n",
       "    </tr>\n",
       "    <tr>\n",
       "      <th>8</th>\n",
       "      <td>0.0</td>\n",
       "      <td>5.0</td>\n",
       "      <td>0.0</td>\n",
       "      <td>0.00</td>\n",
       "      <td>0.00</td>\n",
       "    </tr>\n",
       "    <tr>\n",
       "      <th>9</th>\n",
       "      <td>0.0</td>\n",
       "      <td>5.0</td>\n",
       "      <td>0.0</td>\n",
       "      <td>156.96</td>\n",
       "      <td>-114.06</td>\n",
       "    </tr>\n",
       "  </tbody>\n",
       "</table>\n",
       "</div>"
      ],
      "text/plain": [
       "     0      1    2        3        4\n",
       "0  0.0    0.0  0.0    41.61     0.00\n",
       "1  0.0   31.0  0.0   795.54  -329.51\n",
       "2  0.0    0.0  0.0    51.79     5.18\n",
       "3  0.0   21.0  0.0     0.00     0.00\n",
       "4  0.0  364.0  0.0  6020.79 -2645.71\n",
       "5  0.0    2.0  0.0   245.06  -203.97\n",
       "6  0.0    6.0  0.0     0.00     0.00\n",
       "7  0.0    3.0  0.0  1015.98  -300.01\n",
       "8  0.0    5.0  0.0     0.00     0.00\n",
       "9  0.0    5.0  0.0   156.96  -114.06"
      ]
     },
     "execution_count": 128,
     "metadata": {},
     "output_type": "execute_result"
    }
   ],
   "source": [
    "pd.DataFrame(data=final_data_regr[:10,:])"
   ]
  },
  {
   "cell_type": "markdown",
   "id": "3d7a58c8-7c0b-4427-a7f5-4beeb43525f1",
   "metadata": {},
   "source": [
    "We can now save the data to CSV:"
   ]
  },
  {
   "cell_type": "code",
   "execution_count": 129,
   "id": "51c92c33-4130-4866-8feb-9ae6953dad17",
   "metadata": {},
   "outputs": [],
   "source": [
    "np.savetxt('ML_data_class.csv', final_data_class, delimiter=',')\n",
    "np.savetxt('ML_data_regr.csv', final_data_regr, delimiter=',')\n",
    "np.savetxt('ML_data_regr_abs.csv', final_data_regr_abs, delimiter=',')"
   ]
  },
  {
   "cell_type": "markdown",
   "id": "f4531585-b9dc-4e87-832c-a0cc06de6a9e",
   "metadata": {
    "jp-MarkdownHeadingCollapsed": true,
    "tags": []
   },
   "source": [
    "# Load the CSV\n",
    "Or skip the below cell if you already ran the above cells"
   ]
  },
  {
   "cell_type": "code",
   "execution_count": 131,
   "id": "472305f6-5d4c-401d-ba43-49ab0edb093e",
   "metadata": {},
   "outputs": [
    {
     "data": {
      "text/plain": [
       "(7065, 5)"
      ]
     },
     "execution_count": 131,
     "metadata": {},
     "output_type": "execute_result"
    }
   ],
   "source": [
    "final_data_class = np.genfromtxt('ML_data_class.csv',delimiter=',')\n",
    "final_data_regr = np.genfromtxt('ML_data_regr.csv',delimiter=',')\n",
    "final_data_regr_abs = np.genfromtxt('ML_data_regr_abs.csv',delimiter=',')\n",
    "final_data_regr.shape"
   ]
  },
  {
   "cell_type": "markdown",
   "id": "bfddb751-1710-41c6-83c4-3908e3d6688d",
   "metadata": {
    "tags": []
   },
   "source": [
    "# Train the ML model\n",
    "We try two approaches in training the ML model: One approach where we only look at predicting the overspent amount (negative or positive), and one approach where we split this task in two: a regression model for predicting the absolute value, and a classification model to predict if it's negative (underspent) or positive (overspent). The first approach uses `final_data_regr`, and the second uses both `final_data_regr_abs` and `final_data_class`."
   ]
  },
  {
   "cell_type": "markdown",
   "id": "b2b9c2e5-df9a-4bda-abaf-d165b955685e",
   "metadata": {
    "tags": []
   },
   "source": [
    "## Regression Only\n",
    "First, we split into train, test and validation sets. We do not shuffle because for process mining it is important that the validation and test sets are further in the future than the training set. The training set is 50%, validation 25%, and test set 25%."
   ]
  },
  {
   "cell_type": "code",
   "execution_count": 130,
   "id": "2c5dfa7c-d786-45e8-90bb-7e0bdd558ae3",
   "metadata": {},
   "outputs": [],
   "source": [
    "X_train, X_valtest, y_train, y_valtest = sklearn.model_selection.train_test_split(final_data_regr[:,:-1], final_data_regr[:,-1], \n",
    "                                                                                  train_size=0.5, shuffle=False)\n",
    "X_val, X_test, y_val, y_test = sklearn.model_selection.train_test_split(X_valtest, y_valtest, train_size=0.5, shuffle=False)"
   ]
  },
  {
   "cell_type": "markdown",
   "id": "ca3a5d11-3fd0-4ae2-a95a-5ddeea635c44",
   "metadata": {},
   "source": [
    "Next, we do a parameter search and choose the best parameters based on performance on the validation set. The score metric here has a maximum value of 1.0 and no minimum value."
   ]
  },
  {
   "cell_type": "code",
   "execution_count": 131,
   "id": "fc6df7f1-ddb6-47ee-a1b7-9c60e7b0406d",
   "metadata": {},
   "outputs": [
    {
     "name": "stdout",
     "output_type": "stream",
     "text": [
      "n_estimators: 25,\tmin_samples_split: 1,\tcriterion: squared_error,\tscore: -0.0006002632388422136\n",
      "n_estimators: 25,\tmin_samples_split: 1,\tcriterion: friedman_mse,\tscore: -0.0008728209976263113\n",
      "n_estimators: 25,\tmin_samples_split: 20,\tcriterion: squared_error,\tscore: -0.000551462336531694\n",
      "n_estimators: 25,\tmin_samples_split: 20,\tcriterion: friedman_mse,\tscore: -0.0006798529274487652\n",
      "n_estimators: 25,\tmin_samples_split: 50,\tcriterion: squared_error,\tscore: -0.0008284038534436267\n",
      "n_estimators: 25,\tmin_samples_split: 50,\tcriterion: friedman_mse,\tscore: -0.0005562330390629366\n",
      "n_estimators: 50,\tmin_samples_split: 1,\tcriterion: squared_error,\tscore: -0.0006497452335210152\n",
      "n_estimators: 50,\tmin_samples_split: 1,\tcriterion: friedman_mse,\tscore: -0.0007599477714943514\n",
      "n_estimators: 50,\tmin_samples_split: 20,\tcriterion: squared_error,\tscore: -0.0005758325587934543\n",
      "n_estimators: 50,\tmin_samples_split: 20,\tcriterion: friedman_mse,\tscore: -0.0005918776418651905\n",
      "n_estimators: 50,\tmin_samples_split: 50,\tcriterion: squared_error,\tscore: -0.0007532397793981183\n",
      "n_estimators: 50,\tmin_samples_split: 50,\tcriterion: friedman_mse,\tscore: -0.0008651353658875038\n",
      "n_estimators: 100,\tmin_samples_split: 1,\tcriterion: squared_error,\tscore: -0.0008237475727399524\n",
      "n_estimators: 100,\tmin_samples_split: 1,\tcriterion: friedman_mse,\tscore: -0.0007477571134173466\n",
      "n_estimators: 100,\tmin_samples_split: 20,\tcriterion: squared_error,\tscore: -0.0006644660207937303\n",
      "n_estimators: 100,\tmin_samples_split: 20,\tcriterion: friedman_mse,\tscore: -0.0007627193451447134\n",
      "n_estimators: 100,\tmin_samples_split: 50,\tcriterion: squared_error,\tscore: -0.0008705051128701236\n",
      "n_estimators: 100,\tmin_samples_split: 50,\tcriterion: friedman_mse,\tscore: -0.0006864396700820841\n",
      "n_estimators: 200,\tmin_samples_split: 1,\tcriterion: squared_error,\tscore: -0.0007570992403589383\n",
      "n_estimators: 200,\tmin_samples_split: 1,\tcriterion: friedman_mse,\tscore: -0.0006317450734905083\n",
      "n_estimators: 200,\tmin_samples_split: 20,\tcriterion: squared_error,\tscore: -0.0006237283652785752\n",
      "n_estimators: 200,\tmin_samples_split: 20,\tcriterion: friedman_mse,\tscore: -0.0006663641492106187\n",
      "n_estimators: 200,\tmin_samples_split: 50,\tcriterion: squared_error,\tscore: -0.0008275489933542435\n",
      "n_estimators: 200,\tmin_samples_split: 50,\tcriterion: friedman_mse,\tscore: -0.0007228429313359541\n",
      "Best parameters:\n",
      "n_estimators: 25,\tmin_samples_split: 20,\tcriterion: squared_error,\tscore : -0.000551462336531694\n"
     ]
    }
   ],
   "source": [
    "#no gridsearchcv because it doesn't allow for a validation set\n",
    "best_score = -10000\n",
    "for n_est, min_split, crit in product([25,50,100,200],\n",
    "                                      [1,20,50], \n",
    "                                      ['squared_error','friedman_mse']): #no poisson since we have negative values to predict\n",
    "    #parameter search on 'n_estimators', 'min_samples_split' and 'criterion'\n",
    "    model = RandomForestRegressor(n_estimators = n_est, min_samples_split = min_split, criterion = crit)\n",
    "    model.fit(X_train, y_train)\n",
    "    score = model.score(X_val, y_val)\n",
    "    print(\"n_estimators: {},\\tmin_samples_split: {},\\tcriterion: {},\\tscore: {}\".format(n_est, min_split, crit, score))\n",
    "    if score > best_score:\n",
    "        best_score = score\n",
    "        best_param = n_est, min_split, crit\n",
    "        \n",
    "print(\"Best parameters:\\nn_estimators: {},\\tmin_samples_split: {},\\tcriterion: {},\\tscore : {}\".format(best_param[0], best_param[1], \n",
    "                                                                                                       best_param[2], best_score))"
   ]
  },
  {
   "cell_type": "markdown",
   "id": "ae813fcb-d5da-4c18-8bd3-62418fd6d350",
   "metadata": {},
   "source": [
    "Now we take the model with the best performing parameters and test its performance on the test set"
   ]
  },
  {
   "cell_type": "code",
   "execution_count": 134,
   "id": "f6f81529-518a-41cd-a8e8-ded53afbf988",
   "metadata": {},
   "outputs": [
    {
     "data": {
      "text/plain": [
       "0.06501982433992715"
      ]
     },
     "execution_count": 134,
     "metadata": {},
     "output_type": "execute_result"
    }
   ],
   "source": [
    "best_model = RandomForestRegressor(n_estimators = best_param[0], min_samples_split = best_param[1], criterion = best_param[2])\n",
    "best_model.fit(X_train, y_train)\n",
    "best_model.score(X_test, y_test)"
   ]
  },
  {
   "cell_type": "markdown",
   "id": "a5cb1fe1-d04d-4b25-85b2-12a64c39e50c",
   "metadata": {},
   "source": [
    "This score metric isn't the most intuitive, so let's compute mean absolute error on the test set as well."
   ]
  },
  {
   "cell_type": "code",
   "execution_count": 135,
   "id": "dd4cab02-9770-44c4-821c-9be36b8e717f",
   "metadata": {},
   "outputs": [
    {
     "data": {
      "text/plain": [
       "502.6705807734233"
      ]
     },
     "execution_count": 135,
     "metadata": {},
     "output_type": "execute_result"
    }
   ],
   "source": [
    "mean_absolute_error(y_test, best_model.predict(X_test))"
   ]
  },
  {
   "cell_type": "markdown",
   "id": "e0494823-e9b9-4160-8fd0-3acfec4cca74",
   "metadata": {},
   "source": [
    "We can plot the predicted values against the true values in order to visualize how well the model performs"
   ]
  },
  {
   "cell_type": "code",
   "execution_count": 136,
   "id": "11745b90-ba3b-45aa-848f-cf3e39e2f148",
   "metadata": {},
   "outputs": [
    {
     "data": {
      "text/plain": [
       "Text(0, 0.5, 'True overspent amount')"
      ]
     },
     "execution_count": 136,
     "metadata": {},
     "output_type": "execute_result"
    },
    {
     "data": {
      "image/png": "[encoded data removed]",
      "text/plain": [
       "<Figure size 640x480 with 1 Axes>"
      ]
     },
     "metadata": {},
     "output_type": "display_data"
    }
   ],
   "source": [
    "plt.figure(0)\n",
    "plt.scatter(y_test, best_model.predict(X_test))\n",
    "plt.axline((0,0), slope=1, c='r')\n",
    "plt.title(\"True values plotted against Predicted values\")\n",
    "plt.ylabel(\"Predicted overspent amount\")\n",
    "plt.xlabel(\"True overspent amount\")"
   ]
  },
  {
   "cell_type": "markdown",
   "id": "1ac5e75b-140a-42d5-a5a0-9ae9a4e39755",
   "metadata": {},
   "source": [
    "We can also compare the model to a naive predictor, like simply taking the average of overspent amount"
   ]
  },
  {
   "cell_type": "code",
   "execution_count": 137,
   "id": "a7cb18f5-bcc0-4a55-970a-de5391b60b5a",
   "metadata": {},
   "outputs": [
    {
     "data": {
      "text/plain": [
       "562.8435282654632"
      ]
     },
     "execution_count": 137,
     "metadata": {},
     "output_type": "execute_result"
    }
   ],
   "source": [
    "average_train_overspent = np.mean(y_train)\n",
    "y_pred_test = np.full(1767, average_train_overspent)\n",
    "mean_absolute_error(y_test, y_pred_test)"
   ]
  },
  {
   "cell_type": "code",
   "execution_count": 138,
   "id": "08a55ef3-b4a8-4f99-acf6-28bcf79eb733",
   "metadata": {},
   "outputs": [
    {
     "data": {
      "text/plain": [
       "-0.03145225957821496"
      ]
     },
     "execution_count": 138,
     "metadata": {},
     "output_type": "execute_result"
    }
   ],
   "source": [
    "r2_score(y_test, y_pred_test)"
   ]
  },
  {
   "cell_type": "markdown",
   "id": "8162d4c6-d43d-41c9-93ad-e39c7bb9d864",
   "metadata": {
    "tags": []
   },
   "source": [
    "## Regression + Classification\n",
    "Instead of just predicting the amount overspent, we can also split the model into both a regression and classification model. One will be responsible for predicting the absolute off-budget values, the other for predicting if this amount is overspent or underspent."
   ]
  },
  {
   "cell_type": "markdown",
   "id": "82202a6b-a8c9-4ffb-a5cb-b9d625bad582",
   "metadata": {
    "tags": []
   },
   "source": [
    "### Regression on Absolute off-budget values\n",
    "We again start by dividing everything into train, validation and test sets."
   ]
  },
  {
   "cell_type": "code",
   "execution_count": 139,
   "id": "b4467750-e6d1-4210-bd10-a6f06f22398e",
   "metadata": {},
   "outputs": [],
   "source": [
    "X_train, X_valtest, y_train, y_valtest = sklearn.model_selection.train_test_split(final_data_regr_abs[:,:-1], final_data_regr_abs[:,-1], \n",
    "                                                                                  train_size=0.5, shuffle=False)\n",
    "X_val, X_test, y_val, y_test = sklearn.model_selection.train_test_split(X_valtest, y_valtest, train_size=0.5, shuffle=False)"
   ]
  },
  {
   "cell_type": "markdown",
   "id": "765d664b-3d44-46bd-bc8e-c970f20972ca",
   "metadata": {},
   "source": [
    "Next, we do a parameter search and choose the best parameters based on performance on the validation set. The score metric here has a maximum value of 1.0 and no minimum value."
   ]
  },
  {
   "cell_type": "code",
   "execution_count": 140,
   "id": "7d966428-77d7-4157-b5c2-b4859aac4f14",
   "metadata": {},
   "outputs": [
    {
     "name": "stdout",
     "output_type": "stream",
     "text": [
      "n_estimators: 25,\tmin_samples_split: 1,\tcriterion: squared_error,\tscore: -0.0005910551734418235\n",
      "n_estimators: 25,\tmin_samples_split: 1,\tcriterion: friedman_mse,\tscore: -0.000432034711018936\n",
      "n_estimators: 25,\tmin_samples_split: 1,\tcriterion: poisson,\tscore: -0.0006301853941854674\n",
      "n_estimators: 25,\tmin_samples_split: 20,\tcriterion: squared_error,\tscore: -0.0002418661947092282\n",
      "n_estimators: 25,\tmin_samples_split: 20,\tcriterion: friedman_mse,\tscore: -9.166716062924962e-05\n",
      "n_estimators: 25,\tmin_samples_split: 20,\tcriterion: poisson,\tscore: -3.9609624625569495e-05\n",
      "n_estimators: 25,\tmin_samples_split: 50,\tcriterion: squared_error,\tscore: 0.0001517355020347333\n",
      "n_estimators: 25,\tmin_samples_split: 50,\tcriterion: friedman_mse,\tscore: 0.0002241332559197451\n",
      "n_estimators: 25,\tmin_samples_split: 50,\tcriterion: poisson,\tscore: 7.596490283967583e-05\n",
      "n_estimators: 50,\tmin_samples_split: 1,\tcriterion: squared_error,\tscore: -0.0006787789169961922\n",
      "n_estimators: 50,\tmin_samples_split: 1,\tcriterion: friedman_mse,\tscore: -0.0005504995726890449\n",
      "n_estimators: 50,\tmin_samples_split: 1,\tcriterion: poisson,\tscore: -0.0005302003317606552\n",
      "n_estimators: 50,\tmin_samples_split: 20,\tcriterion: squared_error,\tscore: -0.00019094713104261807\n",
      "n_estimators: 50,\tmin_samples_split: 20,\tcriterion: friedman_mse,\tscore: -0.00010969168990815348\n",
      "n_estimators: 50,\tmin_samples_split: 20,\tcriterion: poisson,\tscore: -0.00012776690295845938\n",
      "n_estimators: 50,\tmin_samples_split: 50,\tcriterion: squared_error,\tscore: 1.7152452497226633e-05\n",
      "n_estimators: 50,\tmin_samples_split: 50,\tcriterion: friedman_mse,\tscore: 9.744110435971898e-05\n",
      "n_estimators: 50,\tmin_samples_split: 50,\tcriterion: poisson,\tscore: 0.00016104914511982926\n",
      "n_estimators: 100,\tmin_samples_split: 1,\tcriterion: squared_error,\tscore: -0.000556260734134506\n",
      "n_estimators: 100,\tmin_samples_split: 1,\tcriterion: friedman_mse,\tscore: -0.0006295204133497379\n",
      "n_estimators: 100,\tmin_samples_split: 1,\tcriterion: poisson,\tscore: -0.0005057406169599599\n",
      "n_estimators: 100,\tmin_samples_split: 20,\tcriterion: squared_error,\tscore: -0.00021039457402260986\n",
      "n_estimators: 100,\tmin_samples_split: 20,\tcriterion: friedman_mse,\tscore: -0.00014490905509556562\n",
      "n_estimators: 100,\tmin_samples_split: 20,\tcriterion: poisson,\tscore: -6.414856749237252e-05\n",
      "n_estimators: 100,\tmin_samples_split: 50,\tcriterion: squared_error,\tscore: 8.317940612001529e-05\n",
      "n_estimators: 100,\tmin_samples_split: 50,\tcriterion: friedman_mse,\tscore: 0.00012539410207024204\n",
      "n_estimators: 100,\tmin_samples_split: 50,\tcriterion: poisson,\tscore: 9.741748360525548e-05\n",
      "n_estimators: 200,\tmin_samples_split: 1,\tcriterion: squared_error,\tscore: -0.000594873743720914\n",
      "n_estimators: 200,\tmin_samples_split: 1,\tcriterion: friedman_mse,\tscore: -0.0005864028696522805\n",
      "n_estimators: 200,\tmin_samples_split: 1,\tcriterion: poisson,\tscore: -0.0005790196697483818\n",
      "n_estimators: 200,\tmin_samples_split: 20,\tcriterion: squared_error,\tscore: -0.00012481430028765672\n",
      "n_estimators: 200,\tmin_samples_split: 20,\tcriterion: friedman_mse,\tscore: -0.000101142702173318\n",
      "n_estimators: 200,\tmin_samples_split: 20,\tcriterion: poisson,\tscore: -9.11000154253383e-05\n",
      "n_estimators: 200,\tmin_samples_split: 50,\tcriterion: squared_error,\tscore: 9.47208312322978e-05\n",
      "n_estimators: 200,\tmin_samples_split: 50,\tcriterion: friedman_mse,\tscore: 7.222842882914637e-05\n",
      "n_estimators: 200,\tmin_samples_split: 50,\tcriterion: poisson,\tscore: 0.00014326691805321978\n",
      "Best parameters:\n",
      "n_estimators: 25,\tmin_samples_split: 50,\tcriterion: friedman_mse,\tscore : 0.0002241332559197451\n"
     ]
    }
   ],
   "source": [
    "#no gridsearchcv because it doesn't allow for a validation set\n",
    "best_score = -10000\n",
    "for n_est, min_split, crit in product([25,50,100,200],\n",
    "                                      [1,20,50], \n",
    "                                      ['squared_error','friedman_mse','poisson']): \n",
    "    #parameter search on 'n_estimators', 'min_samples_split' and 'criterion'\n",
    "    model = RandomForestRegressor(n_estimators = n_est, min_samples_split = min_split, criterion = crit)\n",
    "    model.fit(X_train, y_train)\n",
    "    score = model.score(X_val, y_val)\n",
    "    print(\"n_estimators: {},\\tmin_samples_split: {},\\tcriterion: {},\\tscore: {}\".format(n_est, min_split, crit, score))\n",
    "    if score > best_score:\n",
    "        best_score = score\n",
    "        best_param = n_est, min_split, crit\n",
    "        \n",
    "print(\"Best parameters:\\nn_estimators: {},\\tmin_samples_split: {},\\tcriterion: {},\\tscore : {}\".format(best_param[0], best_param[1], \n",
    "                                                                                                       best_param[2], best_score))"
   ]
  },
  {
   "cell_type": "markdown",
   "id": "7ccb10eb-12d6-4ddf-8c0f-90ae33371e35",
   "metadata": {},
   "source": [
    "Now we take the model with the best performing parameters and test its performance on the test set"
   ]
  },
  {
   "cell_type": "code",
   "execution_count": 149,
   "id": "12d3cfba-0c80-4165-9303-bde8469b0d5f",
   "metadata": {
    "tags": []
   },
   "outputs": [
    {
     "data": {
      "text/plain": [
       "0.3154950992560599"
      ]
     },
     "execution_count": 149,
     "metadata": {},
     "output_type": "execute_result"
    }
   ],
   "source": [
    "best_model = RandomForestRegressor(n_estimators = best_param[0], min_samples_split = best_param[1], criterion = best_param[2])\n",
    "best_model.fit(X_train, y_train)\n",
    "best_model.score(X_test, y_test)"
   ]
  },
  {
   "cell_type": "markdown",
   "id": "880e6f9c-1a18-43b6-a835-dd7b180dbd04",
   "metadata": {},
   "source": [
    "This score metric isn't the most intuitive, so let's compute mean absolute error on the test set as well."
   ]
  },
  {
   "cell_type": "code",
   "execution_count": 150,
   "id": "7acc5008-39f3-44bb-9d5f-8cebbd0a1e16",
   "metadata": {},
   "outputs": [
    {
     "data": {
      "text/plain": [
       "410.14121428316037"
      ]
     },
     "execution_count": 150,
     "metadata": {},
     "output_type": "execute_result"
    }
   ],
   "source": [
    "mean_absolute_error(y_test, best_model.predict(X_test))"
   ]
  },
  {
   "cell_type": "markdown",
   "id": "4294b419-cb5f-4bac-b026-6360e3154065",
   "metadata": {},
   "source": [
    "We can plot the predicted values against the true values in order to visualize how well the model performs"
   ]
  },
  {
   "cell_type": "code",
   "execution_count": 151,
   "id": "fa6ca8e8-c18a-4747-ab50-dd6aa9a2b409",
   "metadata": {},
   "outputs": [
    {
     "data": {
      "text/plain": [
       "Text(0, 0.5, 'True absolute overspent amount')"
      ]
     },
     "execution_count": 151,
     "metadata": {},
     "output_type": "execute_result"
    },
    {
     "data": {
      "image/png": "[encoded data removed]",
      "text/plain": [
       "<Figure size 640x480 with 1 Axes>"
      ]
     },
     "metadata": {},
     "output_type": "display_data"
    }
   ],
   "source": [
    "plt.figure(0)\n",
    "plt.scatter(y_test, best_model.predict(X_test))\n",
    "plt.axline((0,0), slope=1, c='r')\n",
    "plt.title(\"True values plotted against Predicted values\")\n",
    "plt.ylabel(\"Predicted absolute overspent amount\")\n",
    "plt.xlabel(\"True absolute overspent amount\")"
   ]
  },
  {
   "cell_type": "markdown",
   "id": "f0999369-dad7-4b23-9c58-067f372b6533",
   "metadata": {},
   "source": [
    "We once again compare to the naive predictor, which simply takes the average absolute overspent amount"
   ]
  },
  {
   "cell_type": "code",
   "execution_count": 152,
   "id": "85316668-ce44-4084-b089-38d69ad33627",
   "metadata": {},
   "outputs": [
    {
     "data": {
      "text/plain": [
       "556.3750093285674"
      ]
     },
     "execution_count": 152,
     "metadata": {},
     "output_type": "execute_result"
    }
   ],
   "source": [
    "average_train_overspent = np.mean(y_train)\n",
    "y_pred_test = np.full(1767, average_train_overspent)\n",
    "mean_absolute_error(y_test, y_pred_test)"
   ]
  },
  {
   "cell_type": "code",
   "execution_count": 153,
   "id": "50f6d7b0-36d8-4709-916b-9a0ab4ec457f",
   "metadata": {},
   "outputs": [
    {
     "data": {
      "text/plain": [
       "-0.011135323992199186"
      ]
     },
     "execution_count": 153,
     "metadata": {},
     "output_type": "execute_result"
    }
   ],
   "source": [
    "r2_score(y_test, y_pred_test)"
   ]
  },
  {
   "cell_type": "markdown",
   "id": "4684c919-5474-4bc4-b296-3c0a2c8ccd0c",
   "metadata": {
    "jp-MarkdownHeadingCollapsed": true,
    "tags": []
   },
   "source": [
    "### Classification"
   ]
  },
  {
   "cell_type": "code",
   "execution_count": 111,
   "id": "5ab66431-5b82-4ff2-a818-66f8d9e9fe25",
   "metadata": {},
   "outputs": [],
   "source": [
    "X_train, X_valtest, y_train, y_valtest = sklearn.model_selection.train_test_split(final_data_class[:,:-1], final_data_class[:,-1], \n",
    "                                                                                  train_size=0.5, shuffle=False)\n",
    "X_val, X_test, y_val, y_test = sklearn.model_selection.train_test_split(X_valtest, y_valtest, train_size=0.5, shuffle=False)"
   ]
  },
  {
   "cell_type": "markdown",
   "id": "6f32db19-4de8-4993-a162-1548e455e8db",
   "metadata": {},
   "source": [
    "Once again we do a parameter search to find the best hyperparameters, using the validation set. This time however, we use Random Forest Classifier instead of Regressor."
   ]
  },
  {
   "cell_type": "code",
   "execution_count": 112,
   "id": "804dc50f-ffd6-4b45-9efd-0ad2c253d677",
   "metadata": {},
   "outputs": [
    {
     "name": "stdout",
     "output_type": "stream",
     "text": [
      "n_estimators: 25,\tmin_samples_split: 1,\tcriterion: gini,\tscore: 0.23204419889502764\n",
      "n_estimators: 25,\tmin_samples_split: 1,\tcriterion: entropy,\tscore: 0.24833702882483366\n",
      "n_estimators: 25,\tmin_samples_split: 1,\tcriterion: log_loss,\tscore: 0.23224351747463362\n",
      "n_estimators: 25,\tmin_samples_split: 20,\tcriterion: gini,\tscore: 0.0686427457098284\n",
      "n_estimators: 25,\tmin_samples_split: 20,\tcriterion: entropy,\tscore: 0.10185185185185186\n",
      "n_estimators: 25,\tmin_samples_split: 20,\tcriterion: log_loss,\tscore: 0.08805031446540881\n",
      "n_estimators: 25,\tmin_samples_split: 50,\tcriterion: gini,\tscore: 0.014184397163120567\n",
      "n_estimators: 25,\tmin_samples_split: 50,\tcriterion: entropy,\tscore: 0.010582010582010583\n",
      "n_estimators: 25,\tmin_samples_split: 50,\tcriterion: log_loss,\tscore: 0.01054481546572935\n",
      "n_estimators: 50,\tmin_samples_split: 1,\tcriterion: gini,\tscore: 0.248868778280543\n",
      "n_estimators: 50,\tmin_samples_split: 1,\tcriterion: entropy,\tscore: 0.2382022471910112\n",
      "n_estimators: 50,\tmin_samples_split: 1,\tcriterion: log_loss,\tscore: 0.26233183856502246\n",
      "n_estimators: 50,\tmin_samples_split: 20,\tcriterion: gini,\tscore: 0.07051282051282051\n",
      "n_estimators: 50,\tmin_samples_split: 20,\tcriterion: entropy,\tscore: 0.08012820512820513\n",
      "n_estimators: 50,\tmin_samples_split: 20,\tcriterion: log_loss,\tscore: 0.06050955414012738\n",
      "n_estimators: 50,\tmin_samples_split: 50,\tcriterion: gini,\tscore: 0.01060070671378092\n",
      "n_estimators: 50,\tmin_samples_split: 50,\tcriterion: entropy,\tscore: 0.0071301247771836\n",
      "n_estimators: 50,\tmin_samples_split: 50,\tcriterion: log_loss,\tscore: 0.010619469026548674\n",
      "n_estimators: 100,\tmin_samples_split: 1,\tcriterion: gini,\tscore: 0.23636363636363636\n",
      "n_estimators: 100,\tmin_samples_split: 1,\tcriterion: entropy,\tscore: 0.24044943820224723\n",
      "n_estimators: 100,\tmin_samples_split: 1,\tcriterion: log_loss,\tscore: 0.24517593643586835\n",
      "n_estimators: 100,\tmin_samples_split: 20,\tcriterion: gini,\tscore: 0.0641025641025641\n",
      "n_estimators: 100,\tmin_samples_split: 20,\tcriterion: entropy,\tscore: 0.06168831168831169\n",
      "n_estimators: 100,\tmin_samples_split: 20,\tcriterion: log_loss,\tscore: 0.07096774193548387\n",
      "n_estimators: 100,\tmin_samples_split: 50,\tcriterion: gini,\tscore: 0.0071301247771836\n",
      "n_estimators: 100,\tmin_samples_split: 50,\tcriterion: entropy,\tscore: 0.010582010582010583\n",
      "n_estimators: 100,\tmin_samples_split: 50,\tcriterion: log_loss,\tscore: 0.0071301247771836\n",
      "n_estimators: 200,\tmin_samples_split: 1,\tcriterion: gini,\tscore: 0.23529411764705882\n",
      "n_estimators: 200,\tmin_samples_split: 1,\tcriterion: entropy,\tscore: 0.24545454545454548\n",
      "n_estimators: 200,\tmin_samples_split: 1,\tcriterion: log_loss,\tscore: 0.24746906636670413\n",
      "n_estimators: 200,\tmin_samples_split: 20,\tcriterion: gini,\tscore: 0.06451612903225806\n",
      "n_estimators: 200,\tmin_samples_split: 20,\tcriterion: entropy,\tscore: 0.05211726384364821\n",
      "n_estimators: 200,\tmin_samples_split: 20,\tcriterion: log_loss,\tscore: 0.07051282051282051\n",
      "n_estimators: 200,\tmin_samples_split: 50,\tcriterion: gini,\tscore: 0.010676156583629894\n",
      "n_estimators: 200,\tmin_samples_split: 50,\tcriterion: entropy,\tscore: 0.0071174377224199285\n",
      "n_estimators: 200,\tmin_samples_split: 50,\tcriterion: log_loss,\tscore: 0.003577817531305904\n",
      "Best parameters:\n",
      "n_estimators: 50,\tmin_samples_split: 1,\tcriterion: log_loss,\tscore : 0.26233183856502246\n"
     ]
    }
   ],
   "source": [
    "best_score = -10000\n",
    "for n_est, min_split, crit in product([25,50,100,200], \n",
    "                                      [1,20,50], \n",
    "                                      ['gini', 'entropy', 'log_loss']): \n",
    "    #parameter search on 'n_estimators', 'min_samples_split' and 'criterion'\n",
    "    model = RandomForestClassifier(n_estimators = n_est, min_samples_split = min_split)\n",
    "    model.fit(X_train, y_train)\n",
    "    score = f1_score(y_val, model.predict(X_val))\n",
    "    print(\"n_estimators: {},\\tmin_samples_split: {},\\tcriterion: {},\\tscore: {}\".format(n_est, min_split, crit, score))\n",
    "    if score > best_score:\n",
    "        best_score = score\n",
    "        best_param = n_est, min_split, crit\n",
    "        \n",
    "print(\"Best parameters:\\nn_estimators: {},\\tmin_samples_split: {},\\tcriterion: {},\\tscore : {}\".format(best_param[0], best_param[1], \n",
    "                                                                                                       best_param[2], best_score))"
   ]
  },
  {
   "cell_type": "code",
   "execution_count": 113,
   "id": "f50a7750-b293-423e-a0ba-787623a2da57",
   "metadata": {},
   "outputs": [
    {
     "data": {
      "text/plain": [
       "0.6632710809281268"
      ]
     },
     "execution_count": 113,
     "metadata": {},
     "output_type": "execute_result"
    }
   ],
   "source": [
    "best_model = RandomForestClassifier(n_estimators = best_param[0], min_samples_split = best_param[1], criterion = best_param[2])\n",
    "best_model.fit(X_train, y_train)\n",
    "best_model.score(X_test, y_test)"
   ]
  },
  {
   "cell_type": "code",
   "execution_count": 114,
   "id": "c3058197-63ef-4a98-b4dc-a445f17025dd",
   "metadata": {},
   "outputs": [
    {
     "data": {
      "text/plain": [
       "0.2119205298013245"
      ]
     },
     "execution_count": 114,
     "metadata": {},
     "output_type": "execute_result"
    }
   ],
   "source": [
    "F1 = f1_score(y_test, best_model.predict(X_test))\n",
    "F1"
   ]
  },
  {
   "cell_type": "markdown",
   "id": "5c683976-239d-4c3c-9f4f-dc20d345e4dc",
   "metadata": {},
   "source": [
    "Let's also create a confusion matrix to get insight in which class the model struggles with the most"
   ]
  },
  {
   "cell_type": "code",
   "execution_count": 115,
   "id": "c69b0546-3006-489a-b294-c5ae55dca54f",
   "metadata": {},
   "outputs": [
    {
     "data": {
      "text/plain": [
       "array([[1092,  299],\n",
       "       [ 296,   80]], dtype=int64)"
      ]
     },
     "execution_count": 115,
     "metadata": {},
     "output_type": "execute_result"
    }
   ],
   "source": [
    "confusion_matrix(y_test, best_model.predict(X_test))"
   ]
  },
  {
   "cell_type": "markdown",
   "id": "3a7a5170-2bc8-4a25-99f1-e025a1092a6b",
   "metadata": {},
   "source": [
    "Structure of confusion matrix: (Negative = not overspent, positive = overspent)\n",
    "\n",
    "| True Negative  | False Positive |\n",
    "| --- | --- |\n",
    "| False Negative | True Negative |\n",
    "\n",
    "Clearly there is a bias in labeling instances as Not-Overspent, which may be due to the imbalanced dataset."
   ]
  },
  {
   "cell_type": "markdown",
   "id": "a2af49b2-6678-447e-9a4a-52023b01319a",
   "metadata": {},
   "source": [
    "Once again we compare to a naive model, this time a model which simply picks a class uniformly at random"
   ]
  },
  {
   "cell_type": "code",
   "execution_count": 116,
   "id": "f83fe201-dd77-4e9a-a873-6d371b1166cd",
   "metadata": {},
   "outputs": [
    {
     "data": {
      "text/plain": [
       "0.4833050367855122"
      ]
     },
     "execution_count": 116,
     "metadata": {},
     "output_type": "execute_result"
    }
   ],
   "source": [
    "random_predictions = np.random.randint(2, size=y_test.shape)\n",
    "acc_score = accuracy_score(y_test, random_predictions)\n",
    "acc_score"
   ]
  },
  {
   "cell_type": "code",
   "execution_count": 117,
   "id": "d6156a53-c5d0-4f25-ad3f-88a3a7d518cc",
   "metadata": {},
   "outputs": [
    {
     "data": {
      "text/plain": [
       "0.283921568627451"
      ]
     },
     "execution_count": 117,
     "metadata": {},
     "output_type": "execute_result"
    }
   ],
   "source": [
    "F1 = f1_score(y_test, random_predictions)\n",
    "F1"
   ]
  },
  {
   "cell_type": "markdown",
   "id": "9d92e76e-2e8d-4461-a313-a196cd08834a",
   "metadata": {
    "jp-MarkdownHeadingCollapsed": true,
    "tags": []
   },
   "source": [
    "#### Balancing the datasets\n",
    "The confusion matrix shows that there is a big class imbalance, which causes our accuracy score to be unreliable. Since the F1 score isn't great either, we will try to improve performance by balancing the datasets. We'll use undersampling to do this. Since undersampling will decrease the size of the dataset significantly, we will use a slightly larger training set than before. The training set will now be 70% of the complete dataset, and the validation and test sets both 15%."
   ]
  },
  {
   "cell_type": "code",
   "execution_count": 118,
   "id": "fe030d15-0e12-4b88-9a74-34e476562209",
   "metadata": {},
   "outputs": [],
   "source": [
    "X_train, X_valtest, y_train, y_valtest = sklearn.model_selection.train_test_split(final_data_class[:,:-1], final_data_class[:,-1], \n",
    "                                                                                  train_size=0.7, shuffle=False)\n",
    "X_val, X_test, y_val, y_test = sklearn.model_selection.train_test_split(X_valtest, y_valtest, train_size=0.5, shuffle=False)"
   ]
  },
  {
   "cell_type": "code",
   "execution_count": 85,
   "id": "25ec589b-839e-4e2f-be76-3f0c76e065ea",
   "metadata": {},
   "outputs": [
    {
     "name": "stdout",
     "output_type": "stream",
     "text": [
      "[3534 1411]\n",
      "[758 302]\n",
      "[879 181]\n"
     ]
    }
   ],
   "source": [
    "#first check what the balance actually is, for each set we print no_overspending amount vs overspending amount\n",
    "print(np.bincount(y_train.astype(int)))\n",
    "print(np.bincount(y_val.astype(int)))\n",
    "print(np.bincount(y_test.astype(int)))"
   ]
  },
  {
   "cell_type": "code",
   "execution_count": 86,
   "id": "7d4ae41c-6f4a-45aa-ab54-291ab95cf474",
   "metadata": {},
   "outputs": [],
   "source": [
    "#We undersample by randomly undersampling the dominant class. In this case this is the not-overspending class\n",
    "rng = np.random.default_rng(seed=42) #create a random-number-generator with a seed for reproducibility\n",
    "\n",
    "overspent_train_idx = y_train.nonzero()[0]     #find indices of the overspent class\n",
    "notover_train_idx = np.nonzero(y_train==0)[0]  #find indices of the not-overspent class\n",
    "\n",
    "#choose a random selection of not-overspent indices the same size as the overspent indices\n",
    "rand_notover_train_idx = rng.choice(notover_train_idx, overspent_train_idx.size, replace=False)\n",
    "final_train_idx = np.concatenate((overspent_train_idx, rand_notover_train_idx))\n",
    "\n",
    "#do the same for the validation and test sets\n",
    "overspent_val_idx = y_val.nonzero()[0]     \n",
    "notover_val_idx = np.nonzero(y_val==0)[0]  \n",
    "rand_notover_val_idx = rng.choice(notover_val_idx, overspent_val_idx.size, replace=False)\n",
    "final_val_idx = np.concatenate((overspent_val_idx, rand_notover_val_idx))\n",
    "\n",
    "overspent_test_idx = y_test.nonzero()[0]     \n",
    "notover_test_idx = np.nonzero(y_test==0)[0]  \n",
    "rand_notover_test_idx = rng.choice(notover_test_idx, overspent_test_idx.size, replace=False)\n",
    "final_test_idx = np.concatenate((overspent_test_idx, rand_notover_test_idx))"
   ]
  },
  {
   "cell_type": "markdown",
   "id": "d7c92572-bfe5-498e-b472-ad6e8bdb74d1",
   "metadata": {},
   "source": [
    "We create out newly balanced datasets by indexing the sets we already had with the indices generated above."
   ]
  },
  {
   "cell_type": "code",
   "execution_count": 87,
   "id": "a8096c0a-aed9-40fe-acc6-a5de8a112a3a",
   "metadata": {},
   "outputs": [],
   "source": [
    "X_train_bal, y_train_bal = X_train[final_train_idx,:], y_train[final_train_idx]\n",
    "X_val_bal, y_val_bal = X_val[final_val_idx,:], y_val[final_val_idx]\n",
    "X_test_bal, y_test_bal = X_test[final_test_idx,:], y_test[final_test_idx]"
   ]
  },
  {
   "cell_type": "code",
   "execution_count": 88,
   "id": "3a6ff88d-3222-4760-b11c-2d10b598fa58",
   "metadata": {},
   "outputs": [
    {
     "name": "stdout",
     "output_type": "stream",
     "text": [
      "[1411 1411]\n",
      "[302 302]\n",
      "[181 181]\n"
     ]
    }
   ],
   "source": [
    "#let's see if it's balanced now:\n",
    "print(np.bincount(y_train_bal.astype(int)))\n",
    "print(np.bincount(y_val_bal.astype(int)))\n",
    "print(np.bincount(y_test_bal.astype(int)))"
   ]
  },
  {
   "cell_type": "markdown",
   "id": "2cc1ddcc-4b0c-4cd7-8b00-d16d0e12c411",
   "metadata": {},
   "source": [
    "With our newly balanced datasets, we can train a model much the same way as we did before:"
   ]
  },
  {
   "cell_type": "code",
   "execution_count": 89,
   "id": "15146905-69af-456d-9391-1e3705844816",
   "metadata": {},
   "outputs": [
    {
     "name": "stdout",
     "output_type": "stream",
     "text": [
      "n_estimators: 25,\tmin_samples_split: 1,\tcriterion: gini,\tscore: 0.49337748344370863\n",
      "n_estimators: 25,\tmin_samples_split: 1,\tcriterion: entropy,\tscore: 0.5082781456953642\n",
      "n_estimators: 25,\tmin_samples_split: 1,\tcriterion: log_loss,\tscore: 0.5298013245033113\n",
      "n_estimators: 25,\tmin_samples_split: 20,\tcriterion: gini,\tscore: 0.5298013245033113\n",
      "n_estimators: 25,\tmin_samples_split: 20,\tcriterion: entropy,\tscore: 0.5215231788079471\n",
      "n_estimators: 25,\tmin_samples_split: 20,\tcriterion: log_loss,\tscore: 0.5264900662251656\n",
      "n_estimators: 25,\tmin_samples_split: 50,\tcriterion: gini,\tscore: 0.5198675496688742\n",
      "n_estimators: 25,\tmin_samples_split: 50,\tcriterion: entropy,\tscore: 0.5215231788079471\n",
      "n_estimators: 25,\tmin_samples_split: 50,\tcriterion: log_loss,\tscore: 0.5463576158940397\n",
      "n_estimators: 50,\tmin_samples_split: 1,\tcriterion: gini,\tscore: 0.5264900662251656\n",
      "n_estimators: 50,\tmin_samples_split: 1,\tcriterion: entropy,\tscore: 0.5049668874172185\n",
      "n_estimators: 50,\tmin_samples_split: 1,\tcriterion: log_loss,\tscore: 0.5198675496688742\n",
      "n_estimators: 50,\tmin_samples_split: 20,\tcriterion: gini,\tscore: 0.5149006622516556\n",
      "n_estimators: 50,\tmin_samples_split: 20,\tcriterion: entropy,\tscore: 0.5215231788079471\n",
      "n_estimators: 50,\tmin_samples_split: 20,\tcriterion: log_loss,\tscore: 0.5198675496688742\n",
      "n_estimators: 50,\tmin_samples_split: 50,\tcriterion: gini,\tscore: 0.5082781456953642\n",
      "n_estimators: 50,\tmin_samples_split: 50,\tcriterion: entropy,\tscore: 0.5364238410596026\n",
      "n_estimators: 50,\tmin_samples_split: 50,\tcriterion: log_loss,\tscore: 0.5165562913907285\n",
      "n_estimators: 100,\tmin_samples_split: 1,\tcriterion: gini,\tscore: 0.5231788079470199\n",
      "n_estimators: 100,\tmin_samples_split: 1,\tcriterion: entropy,\tscore: 0.5099337748344371\n",
      "n_estimators: 100,\tmin_samples_split: 1,\tcriterion: log_loss,\tscore: 0.5165562913907285\n",
      "n_estimators: 100,\tmin_samples_split: 20,\tcriterion: gini,\tscore: 0.5248344370860927\n",
      "n_estimators: 100,\tmin_samples_split: 20,\tcriterion: entropy,\tscore: 0.5215231788079471\n",
      "n_estimators: 100,\tmin_samples_split: 20,\tcriterion: log_loss,\tscore: 0.5066225165562914\n",
      "n_estimators: 100,\tmin_samples_split: 50,\tcriterion: gini,\tscore: 0.5347682119205298\n",
      "n_estimators: 100,\tmin_samples_split: 50,\tcriterion: entropy,\tscore: 0.5198675496688742\n",
      "n_estimators: 100,\tmin_samples_split: 50,\tcriterion: log_loss,\tscore: 0.5314569536423841\n",
      "n_estimators: 200,\tmin_samples_split: 1,\tcriterion: gini,\tscore: 0.5264900662251656\n",
      "n_estimators: 200,\tmin_samples_split: 1,\tcriterion: entropy,\tscore: 0.5231788079470199\n",
      "n_estimators: 200,\tmin_samples_split: 1,\tcriterion: log_loss,\tscore: 0.5132450331125827\n",
      "n_estimators: 200,\tmin_samples_split: 20,\tcriterion: gini,\tscore: 0.5264900662251656\n",
      "n_estimators: 200,\tmin_samples_split: 20,\tcriterion: entropy,\tscore: 0.5281456953642384\n",
      "n_estimators: 200,\tmin_samples_split: 20,\tcriterion: log_loss,\tscore: 0.5182119205298014\n",
      "n_estimators: 200,\tmin_samples_split: 50,\tcriterion: gini,\tscore: 0.5248344370860927\n",
      "n_estimators: 200,\tmin_samples_split: 50,\tcriterion: entropy,\tscore: 0.5264900662251656\n",
      "n_estimators: 200,\tmin_samples_split: 50,\tcriterion: log_loss,\tscore: 0.5397350993377483\n",
      "Best parameters:\n",
      "n_estimators: 25,\tmin_samples_split: 50,\tcriterion: log_loss,\tscore : 0.5463576158940397\n"
     ]
    }
   ],
   "source": [
    "best_score = -10000\n",
    "for n_est, min_split, crit in product([25,50,100,200], \n",
    "                                      [1,20,50], \n",
    "                                      ['gini', 'entropy', 'log_loss']): \n",
    "    #parameter search on 'n_estimators', 'min_samples_split' and 'criterion'\n",
    "    model = RandomForestClassifier(n_estimators = n_est, min_samples_split = min_split)\n",
    "    model.fit(X_train_bal, y_train_bal)\n",
    "    score = model.score(X_val_bal, y_val_bal) #since the dataset is now balanced we can use accuracy\n",
    "    print(\"n_estimators: {},\\tmin_samples_split: {},\\tcriterion: {},\\tscore: {}\".format(n_est, min_split, crit, score))\n",
    "    if score > best_score:\n",
    "        best_score = score\n",
    "        best_param = n_est, min_split, crit\n",
    "        \n",
    "print(\"Best parameters:\\nn_estimators: {},\\tmin_samples_split: {},\\tcriterion: {},\\tscore : {}\".format(best_param[0], best_param[1], \n",
    "                                                                                                       best_param[2], best_score))"
   ]
  },
  {
   "cell_type": "code",
   "execution_count": 90,
   "id": "d19fb83a-1294-4a2c-90c4-5590c469d920",
   "metadata": {},
   "outputs": [
    {
     "data": {
      "text/plain": [
       "0.5386740331491713"
      ]
     },
     "execution_count": 90,
     "metadata": {},
     "output_type": "execute_result"
    }
   ],
   "source": [
    "best_model = RandomForestClassifier(n_estimators = best_param[0], min_samples_split = best_param[1], criterion = best_param[2])\n",
    "best_model.fit(X_train_bal, y_train_bal)\n",
    "best_model.score(X_test_bal, y_test_bal)"
   ]
  },
  {
   "cell_type": "code",
   "execution_count": 91,
   "id": "cc379e58-a038-4915-a643-5de907744d40",
   "metadata": {},
   "outputs": [
    {
     "data": {
      "text/plain": [
       "0.5242165242165243"
      ]
     },
     "execution_count": 91,
     "metadata": {},
     "output_type": "execute_result"
    }
   ],
   "source": [
    "F1 = f1_score(y_test_bal, best_model.predict(X_test_bal))\n",
    "F1"
   ]
  },
  {
   "cell_type": "code",
   "execution_count": 92,
   "id": "f4338ba7-2812-4ad6-8085-0c3e87b8a463",
   "metadata": {},
   "outputs": [
    {
     "data": {
      "text/plain": [
       "array([[103,  78],\n",
       "       [ 89,  92]], dtype=int64)"
      ]
     },
     "execution_count": 92,
     "metadata": {},
     "output_type": "execute_result"
    }
   ],
   "source": [
    "confusion_matrix(y_test_bal, best_model.predict(X_test_bal))"
   ]
  },
  {
   "cell_type": "markdown",
   "id": "07d2a601-f9c8-45a3-9208-4537adb132b2",
   "metadata": {},
   "source": [
    "Structure of confusion matrix: (Negative = not overspent, positive = overspent)\n",
    "\n",
    "| True Negative  | False Positive |\n",
    "| --- | --- |\n",
    "| False Negative | True Negative |\n",
    "\n",
    "There is no longer a bias towards either class, but the model now seems to have no skill to recognize the classes. Perhaps undersampling caused there to be too little data to properly learn from.\n",
    "\n",
    "Furthermore, the naive predictor on the balanced datasets:"
   ]
  },
  {
   "cell_type": "code",
   "execution_count": 93,
   "id": "6fb2f7dd-0a09-4328-a7b6-cb53e827c955",
   "metadata": {},
   "outputs": [
    {
     "data": {
      "text/plain": [
       "0.4696132596685083"
      ]
     },
     "execution_count": 93,
     "metadata": {},
     "output_type": "execute_result"
    }
   ],
   "source": [
    "random_predictions = np.random.randint(2, size=y_test_bal.shape)\n",
    "acc_score = accuracy_score(y_test_bal, random_predictions)\n",
    "acc_score"
   ]
  },
  {
   "cell_type": "code",
   "execution_count": 94,
   "id": "2daea596-7bcc-4798-9a63-89b17515eb66",
   "metadata": {},
   "outputs": [
    {
     "data": {
      "text/plain": [
       "0.48936170212765956"
      ]
     },
     "execution_count": 94,
     "metadata": {},
     "output_type": "execute_result"
    }
   ],
   "source": [
    "F1 = f1_score(y_test_bal, random_predictions)\n",
    "F1"
   ]
  },
  {
   "cell_type": "markdown",
   "id": "b705970d-4c45-44e8-8857-5fceaf792fff",
   "metadata": {},
   "source": [
    "Clearly undersampling was not the solution, as the classification model now performs at the same level as the naive classifier. Perhaps by using oversampling techniques, which allow us to retain the data we have while still balancing the dataset, we can improve this performance. Or perhaps a Random Forest Classifier simply isn't suited for this particular task."
   ]
  },
  {
   "cell_type": "code",
   "execution_count": null,
   "id": "69280a37-63bd-43a1-9d4b-be766ca5836d",
   "metadata": {},
   "outputs": [],
   "source": []
  }
 ],
 "metadata": {
  "kernelspec": {
   "display_name": "Python 3 (ipykernel)",
   "language": "python",
   "name": "python3"
  },
  "language_info": {
   "codemirror_mode": {
    "name": "ipython",
    "version": 3
   },
   "file_extension": ".py",
   "mimetype": "text/x-python",
   "name": "python",
   "nbconvert_exporter": "python",
   "pygments_lexer": "ipython3",
   "version": "3.8.15"
  }
 },
 "nbformat": 4,
 "nbformat_minor": 5
}
