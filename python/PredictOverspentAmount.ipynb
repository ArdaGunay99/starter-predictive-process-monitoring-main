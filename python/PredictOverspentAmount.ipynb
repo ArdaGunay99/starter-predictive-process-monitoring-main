{
 "cells": [
  {
   "cell_type": "code",
   "execution_count": 140,
   "id": "a58e4c02-3080-4955-84fe-a2101010dbf5",
   "metadata": {},
   "outputs": [],
   "source": [
    "#IMPORTS\n",
    "import pm4py\n",
    "import sklearn\n",
    "import pandas as pd\n",
    "import numpy as np\n",
    "import matplotlib.pyplot as plt\n",
    "\n",
    "from sklearn.ensemble import RandomForestRegressor, RandomForestClassifier\n",
    "from sklearn.model_selection import GridSearchCV\n",
    "from sklearn.metrics import mean_absolute_error, r2_score\n",
    "from pm4py.algo.transformation.log_to_features import algorithm as log_to_features\n",
    "from itertools import product"
   ]
  },
  {
   "cell_type": "markdown",
   "id": "b8df9f9b-259e-4d37-b64c-0af17df2291b",
   "metadata": {
    "tags": []
   },
   "source": [
    "# Prepare the Data\n",
    "The code below is used to generate the CVS file. You can also skip running it and instead load the CSV directly a few cells below.\n",
    "\n",
    "First, make sure the permit log is in the current directory, then run the code below"
   ]
  },
  {
   "cell_type": "code",
   "execution_count": 2,
   "id": "bb45e43b-163e-462f-b86d-0510bb9ac2c0",
   "metadata": {},
   "outputs": [
    {
     "data": {
      "application/vnd.jupyter.widget-view+json": {
       "model_id": "5c73a96902d54c1889ca62bed6fdf31e",
       "version_major": 2,
       "version_minor": 0
      },
      "text/plain": [
       "parsing log, completed traces ::   0%|          | 0/7065 [00:00<?, ?it/s]"
      ]
     },
     "metadata": {},
     "output_type": "display_data"
    }
   ],
   "source": [
    "travel_permits = pm4py.read_xes('PermitLog.xes.gz')"
   ]
  },
  {
   "cell_type": "markdown",
   "id": "900e1405-73f8-4be3-a1f6-03bc6fb96538",
   "metadata": {},
   "source": [
    "First, we make sure we have the prefixes we need, we just want the events leading up to 'Start trip'"
   ]
  },
  {
   "cell_type": "code",
   "execution_count": 142,
   "id": "5e369994-66d8-4764-b780-ffcd53f27982",
   "metadata": {},
   "outputs": [],
   "source": [
    "travel_prefixes = pm4py.filtering.filter_prefixes(travel_permits, 'Start trip')"
   ]
  },
  {
   "cell_type": "code",
   "execution_count": 9,
   "id": "ce862e74-17cc-4230-92ec-cf5095138874",
   "metadata": {},
   "outputs": [
    {
     "name": "stdout",
     "output_type": "stream",
     "text": [
      "Permit SUBMITTED by EMPLOYEE\n",
      "Permit FINAL_APPROVED by SUPERVISOR\n",
      "Start trip\n",
      "End trip\n",
      "Declaration SUBMITTED by EMPLOYEE\n",
      "Declaration FINAL_APPROVED by SUPERVISOR\n",
      "Request Payment\n",
      "Payment Handled\n",
      "\n",
      "Permit SUBMITTED by EMPLOYEE\n",
      "Permit FINAL_APPROVED by SUPERVISOR\n"
     ]
    }
   ],
   "source": [
    "#quick check to see if we got what we wanted\n",
    "i = 39\n",
    "for e in travel_permits[i]:\n",
    "    print(e['concept:name'])\n",
    "print() \n",
    "for e in travel_prefixes[i]:\n",
    "    print(e['concept:name'])"
   ]
  },
  {
   "cell_type": "markdown",
   "id": "9d15dfa1-941d-4d0e-8bb5-d1762d30018c",
   "metadata": {},
   "source": [
    "Check if a declaration was submitted before the trip started"
   ]
  },
  {
   "cell_type": "code",
   "execution_count": 51,
   "id": "2e9f0b85-eec5-4096-a150-fe9fd9a0f7f6",
   "metadata": {},
   "outputs": [
    {
     "data": {
      "text/plain": [
       "(7065, 1)"
      ]
     },
     "execution_count": 51,
     "metadata": {},
     "output_type": "execute_result"
    }
   ],
   "source": [
    "decl_bools = np.zeros((7065,1))\n",
    "\n",
    "for i,t in enumerate(travel_prefixes):\n",
    "    for e in t:\n",
    "        if e['concept:name'] == \"Declaration SUBMITTED by EMPLOYEE\":\n",
    "            decl_bools[i,0] = 1\n",
    "            \n",
    "decl_bools.shape"
   ]
  },
  {
   "cell_type": "markdown",
   "id": "25647453-9703-4174-86e8-1aa80c0d0105",
   "metadata": {},
   "source": [
    "Now extract the features we are interested in from the prefixes:"
   ]
  },
  {
   "cell_type": "code",
   "execution_count": 125,
   "id": "5ed013f1-5db1-4401-9819-520a7767dd9f",
   "metadata": {},
   "outputs": [
    {
     "data": {
      "text/plain": [
       "(7065, 2)"
      ]
     },
     "execution_count": 125,
     "metadata": {},
     "output_type": "execute_result"
    }
   ],
   "source": [
    "data_regr, _ = log_to_features.apply(travel_prefixes, parameters={'num_tr_attr': [\"RequestedBudget\",\"OverspentAmount\"]})\n",
    "data_class, _ = log_to_features.apply(travel_prefixes, parameters={'num_tr_attr': [\"RequestedBudget\",\"Overspent\"]})\n",
    "\n",
    "data_regre = np.array(data_regr).round(2)\n",
    "data_class = np.array(data_class).round(2)\n",
    "data_class.shape"
   ]
  },
  {
   "cell_type": "markdown",
   "id": "21206dbc-9196-4108-a2ed-7741932eeb8f",
   "metadata": {},
   "source": [
    "However, we still need trip duration, which we will need to compute manually. We will use number of days to denote the duration"
   ]
  },
  {
   "cell_type": "code",
   "execution_count": 52,
   "id": "d62cdf15-5449-4eb8-afbd-2bc51660a2cc",
   "metadata": {},
   "outputs": [
    {
     "data": {
      "text/plain": [
       "(7065, 1)"
      ]
     },
     "execution_count": 52,
     "metadata": {},
     "output_type": "execute_result"
    }
   ],
   "source": [
    "trip_durations = []\n",
    "for trace in travel_permits:\n",
    "    for e in trace:\n",
    "        if e['concept:name'] == \"Start trip\": #note the time the trip started\n",
    "            start_time = e['time:timestamp']\n",
    "        elif e['concept:name'] == \"End trip\": #note the time the trip ended\n",
    "            end_time = e['time:timestamp']\n",
    "            break\n",
    "    trip_durations.append((end_time-start_time).days) #save the trip duration in days\n",
    "    \n",
    "trip_durations = np.array(trip_durations).reshape((-1,1))\n",
    "trip_durations.shape"
   ]
  },
  {
   "cell_type": "markdown",
   "id": "5c7bee2c-3b37-453f-8bc4-e808d705e940",
   "metadata": {},
   "source": [
    "And we do the same in order to get the duration between the permit being submitted and the permit being approved"
   ]
  },
  {
   "cell_type": "code",
   "execution_count": 53,
   "id": "a5981c1f-967e-43b3-8410-f953680c7dbb",
   "metadata": {},
   "outputs": [
    {
     "data": {
      "text/plain": [
       "(7065, 1)"
      ]
     },
     "execution_count": 53,
     "metadata": {},
     "output_type": "execute_result"
    }
   ],
   "source": [
    "perm_durations = []\n",
    "for trace in travel_permits:\n",
    "    started = False\n",
    "    for e in trace:\n",
    "        if e['concept:name'].startswith(\"Permit\") and not started: #start time is the first time permit is mentioned\n",
    "            started = True\n",
    "            start_time = e['time:timestamp']\n",
    "            end_time = e['time:timestamp']\n",
    "        elif e['concept:name'].startswith(\"Permit\"): #end time is the last time permit is mentioned\n",
    "            end_time = e['time:timestamp']\n",
    "    perm_durations.append((end_time-start_time).days) #save duration of permit handling in days\n",
    "    \n",
    "perm_durations = np.array(perm_durations).reshape((-1,1))\n",
    "perm_durations.shape"
   ]
  },
  {
   "cell_type": "markdown",
   "id": "a90d6f45-e9d7-4edb-8eff-4b0dda77e093",
   "metadata": {},
   "source": [
    "Now we merge all the features we extracted into one dataframe"
   ]
  },
  {
   "cell_type": "code",
   "execution_count": 126,
   "id": "ca24b6c0-eaec-4a65-acab-4362c9715dd6",
   "metadata": {},
   "outputs": [
    {
     "data": {
      "text/plain": [
       "(7065, 5)"
      ]
     },
     "execution_count": 126,
     "metadata": {},
     "output_type": "execute_result"
    }
   ],
   "source": [
    "final_data_regr = np.absolute(np.concatenate((decl_bools, trip_durations, perm_durations, data_regr), axis=1))\n",
    "final_data_class = np.concatenate((decl_bools, trip_durations, perm_durations, data_class), axis=1)\n",
    "final_data_class.shape"
   ]
  },
  {
   "cell_type": "markdown",
   "id": "f57e01fa-48de-472e-8458-c250f81127ab",
   "metadata": {},
   "source": [
    "Some exploration of the data we have now:"
   ]
  },
  {
   "cell_type": "code",
   "execution_count": 129,
   "id": "05f50940-3e6b-487f-8abf-bf54f9e39194",
   "metadata": {},
   "outputs": [
    {
     "data": {
      "text/html": [
       "<div>\n",
       "<style scoped>\n",
       "    .dataframe tbody tr th:only-of-type {\n",
       "        vertical-align: middle;\n",
       "    }\n",
       "\n",
       "    .dataframe tbody tr th {\n",
       "        vertical-align: top;\n",
       "    }\n",
       "\n",
       "    .dataframe thead th {\n",
       "        text-align: right;\n",
       "    }\n",
       "</style>\n",
       "<table border=\"1\" class=\"dataframe\">\n",
       "  <thead>\n",
       "    <tr style=\"text-align: right;\">\n",
       "      <th></th>\n",
       "      <th>0</th>\n",
       "      <th>1</th>\n",
       "      <th>2</th>\n",
       "      <th>3</th>\n",
       "      <th>4</th>\n",
       "    </tr>\n",
       "  </thead>\n",
       "  <tbody>\n",
       "    <tr>\n",
       "      <th>0</th>\n",
       "      <td>0.0</td>\n",
       "      <td>0.0</td>\n",
       "      <td>0.0</td>\n",
       "      <td>41.61</td>\n",
       "      <td>0.0</td>\n",
       "    </tr>\n",
       "    <tr>\n",
       "      <th>1</th>\n",
       "      <td>0.0</td>\n",
       "      <td>31.0</td>\n",
       "      <td>0.0</td>\n",
       "      <td>795.54</td>\n",
       "      <td>0.0</td>\n",
       "    </tr>\n",
       "    <tr>\n",
       "      <th>2</th>\n",
       "      <td>0.0</td>\n",
       "      <td>0.0</td>\n",
       "      <td>0.0</td>\n",
       "      <td>51.79</td>\n",
       "      <td>1.0</td>\n",
       "    </tr>\n",
       "    <tr>\n",
       "      <th>3</th>\n",
       "      <td>0.0</td>\n",
       "      <td>21.0</td>\n",
       "      <td>0.0</td>\n",
       "      <td>0.00</td>\n",
       "      <td>0.0</td>\n",
       "    </tr>\n",
       "    <tr>\n",
       "      <th>4</th>\n",
       "      <td>0.0</td>\n",
       "      <td>364.0</td>\n",
       "      <td>0.0</td>\n",
       "      <td>6020.79</td>\n",
       "      <td>0.0</td>\n",
       "    </tr>\n",
       "    <tr>\n",
       "      <th>5</th>\n",
       "      <td>0.0</td>\n",
       "      <td>2.0</td>\n",
       "      <td>0.0</td>\n",
       "      <td>245.06</td>\n",
       "      <td>0.0</td>\n",
       "    </tr>\n",
       "    <tr>\n",
       "      <th>6</th>\n",
       "      <td>0.0</td>\n",
       "      <td>6.0</td>\n",
       "      <td>0.0</td>\n",
       "      <td>0.00</td>\n",
       "      <td>0.0</td>\n",
       "    </tr>\n",
       "    <tr>\n",
       "      <th>7</th>\n",
       "      <td>0.0</td>\n",
       "      <td>3.0</td>\n",
       "      <td>0.0</td>\n",
       "      <td>1015.98</td>\n",
       "      <td>0.0</td>\n",
       "    </tr>\n",
       "    <tr>\n",
       "      <th>8</th>\n",
       "      <td>0.0</td>\n",
       "      <td>5.0</td>\n",
       "      <td>0.0</td>\n",
       "      <td>0.00</td>\n",
       "      <td>0.0</td>\n",
       "    </tr>\n",
       "    <tr>\n",
       "      <th>9</th>\n",
       "      <td>0.0</td>\n",
       "      <td>5.0</td>\n",
       "      <td>0.0</td>\n",
       "      <td>156.96</td>\n",
       "      <td>0.0</td>\n",
       "    </tr>\n",
       "  </tbody>\n",
       "</table>\n",
       "</div>"
      ],
      "text/plain": [
       "     0      1    2        3    4\n",
       "0  0.0    0.0  0.0    41.61  0.0\n",
       "1  0.0   31.0  0.0   795.54  0.0\n",
       "2  0.0    0.0  0.0    51.79  1.0\n",
       "3  0.0   21.0  0.0     0.00  0.0\n",
       "4  0.0  364.0  0.0  6020.79  0.0\n",
       "5  0.0    2.0  0.0   245.06  0.0\n",
       "6  0.0    6.0  0.0     0.00  0.0\n",
       "7  0.0    3.0  0.0  1015.98  0.0\n",
       "8  0.0    5.0  0.0     0.00  0.0\n",
       "9  0.0    5.0  0.0   156.96  0.0"
      ]
     },
     "execution_count": 129,
     "metadata": {},
     "output_type": "execute_result"
    }
   ],
   "source": [
    "pd.DataFrame(data=final_data_class[:10,:])"
   ]
  },
  {
   "cell_type": "markdown",
   "id": "3d7a58c8-7c0b-4427-a7f5-4beeb43525f1",
   "metadata": {},
   "source": [
    "We can now save the data to CSV:"
   ]
  },
  {
   "cell_type": "code",
   "execution_count": 130,
   "id": "51c92c33-4130-4866-8feb-9ae6953dad17",
   "metadata": {},
   "outputs": [],
   "source": [
    "np.savetxt('ML_data_class.csv', final_data_class, delimiter=',')\n",
    "np.savetxt('ML_data_regr.csv', final_data_regr, delimiter=',')"
   ]
  },
  {
   "cell_type": "markdown",
   "id": "f4531585-b9dc-4e87-832c-a0cc06de6a9e",
   "metadata": {},
   "source": [
    "# Load the CSV\n",
    "Or skip the below cell if you already ran the above cells"
   ]
  },
  {
   "cell_type": "code",
   "execution_count": 131,
   "id": "472305f6-5d4c-401d-ba43-49ab0edb093e",
   "metadata": {},
   "outputs": [
    {
     "data": {
      "text/plain": [
       "(7065, 5)"
      ]
     },
     "execution_count": 131,
     "metadata": {},
     "output_type": "execute_result"
    }
   ],
   "source": [
    "final_data_class = np.genfromtxt('ML_data_class.csv',delimiter=',')\n",
    "final_data_regr = np.genfromtxt('ML_data_regr.csv',delimiter=',')\n",
    "final_data_regr.shape"
   ]
  },
  {
   "cell_type": "markdown",
   "id": "bfddb751-1710-41c6-83c4-3908e3d6688d",
   "metadata": {
    "tags": []
   },
   "source": [
    "# Train the ML model"
   ]
  },
  {
   "cell_type": "markdown",
   "id": "b2b9c2e5-df9a-4bda-abaf-d165b955685e",
   "metadata": {
    "tags": []
   },
   "source": [
    "## Regression\n",
    "First, we split into train, test and validation sets. We do not shuffle because for process mining it is important that the validation and test sets are further in the future than the training set. The training set is 50%, validation 25%, and test set 25%."
   ]
  },
  {
   "cell_type": "code",
   "execution_count": 132,
   "id": "2c5dfa7c-d786-45e8-90bb-7e0bdd558ae3",
   "metadata": {},
   "outputs": [],
   "source": [
    "X_train, X_valtest, y_train, y_valtest = sklearn.model_selection.train_test_split(final_data_regr[:,:-1], final_data_regr[:,-1], \n",
    "                                                                                  train_size=0.5, shuffle=False)\n",
    "X_val, X_test, y_val, y_test = sklearn.model_selection.train_test_split(X_valtest, y_valtest, train_size=0.5, shuffle=False)"
   ]
  },
  {
   "cell_type": "markdown",
   "id": "ca3a5d11-3fd0-4ae2-a95a-5ddeea635c44",
   "metadata": {},
   "source": [
    "Next, we do a parameter search and choose the best parameters based on performance on the validation set. The score metric here has a maximum value of 1.0 and no minimum value."
   ]
  },
  {
   "cell_type": "code",
   "execution_count": 133,
   "id": "fc6df7f1-ddb6-47ee-a1b7-9c60e7b0406d",
   "metadata": {},
   "outputs": [
    {
     "name": "stdout",
     "output_type": "stream",
     "text": [
      "n_estimators: 25, min_samples_split: 1, score: -0.0007196810568610434\n",
      "n_estimators: 25, min_samples_split: 20, score: -0.00023183243172675283\n",
      "n_estimators: 25, min_samples_split: 50, score: 3.311033806752128e-05\n",
      "n_estimators: 50, min_samples_split: 1, score: -0.0004588330093315829\n",
      "n_estimators: 50, min_samples_split: 20, score: -6.448924663549072e-05\n",
      "n_estimators: 50, min_samples_split: 50, score: 0.00013473319769718994\n",
      "n_estimators: 100, min_samples_split: 1, score: -0.0005002573727634907\n",
      "n_estimators: 100, min_samples_split: 20, score: -0.00022874689195417908\n",
      "n_estimators: 100, min_samples_split: 50, score: 0.0002416367323141433\n",
      "n_estimators: 200, min_samples_split: 1, score: -0.0005446518479892415\n",
      "n_estimators: 200, min_samples_split: 20, score: -0.00017387305783267415\n",
      "n_estimators: 200, min_samples_split: 50, score: 6.686392499044569e-05\n"
     ]
    }
   ],
   "source": [
    "#no gridsearchcv because it doesn't allow for a validation set\n",
    "best_score = -10000\n",
    "for n_est, min_split in product([25,50,100,200], [1,20,50]): #parameter search on 'n_estimators' and 'min_samples_split'\n",
    "    model = RandomForestRegressor(n_estimators = n_est, min_samples_split = min_split)\n",
    "    model.fit(X_train, y_train)\n",
    "    score = model.score(X_val, y_val)\n",
    "    print(\"n_estimators: {}, min_samples_split: {}, score: {}\".format(n_est, min_split, score))\n",
    "    if score > best_score:\n",
    "        best_score = score\n",
    "        best_param = n_est, min_split"
   ]
  },
  {
   "cell_type": "markdown",
   "id": "ae813fcb-d5da-4c18-8bd3-62418fd6d350",
   "metadata": {},
   "source": [
    "Now we take the model with the best performing parameters and test its performance on the test set"
   ]
  },
  {
   "cell_type": "code",
   "execution_count": 134,
   "id": "f6f81529-518a-41cd-a8e8-ded53afbf988",
   "metadata": {},
   "outputs": [
    {
     "data": {
      "text/plain": [
       "0.31351903378083057"
      ]
     },
     "execution_count": 134,
     "metadata": {},
     "output_type": "execute_result"
    }
   ],
   "source": [
    "best_model = RandomForestRegressor(n_estimators = best_param[0], min_samples_split = best_param[1])\n",
    "best_model.fit(X_train, y_train)\n",
    "best_model.score(X_test, y_test)"
   ]
  },
  {
   "cell_type": "markdown",
   "id": "a5cb1fe1-d04d-4b25-85b2-12a64c39e50c",
   "metadata": {},
   "source": [
    "This score metric isn't the most intuitive, so let's compute mean absolute error on the test set as well."
   ]
  },
  {
   "cell_type": "code",
   "execution_count": 135,
   "id": "dd4cab02-9770-44c4-821c-9be36b8e717f",
   "metadata": {},
   "outputs": [
    {
     "data": {
      "text/plain": [
       "411.5780501683343"
      ]
     },
     "execution_count": 135,
     "metadata": {},
     "output_type": "execute_result"
    }
   ],
   "source": [
    "mean_absolute_error(y_test, best_model.predict(X_test))"
   ]
  },
  {
   "cell_type": "markdown",
   "id": "e0494823-e9b9-4160-8fd0-3acfec4cca74",
   "metadata": {},
   "source": [
    "We can plot the predicted values against the true values in order to visualize how well the model performs"
   ]
  },
  {
   "cell_type": "code",
   "execution_count": 136,
   "id": "11745b90-ba3b-45aa-848f-cf3e39e2f148",
   "metadata": {},
   "outputs": [
    {
     "data": {
      "text/plain": [
       "<matplotlib.lines._AxLine at 0x23657221cd0>"
      ]
     },
     "execution_count": 136,
     "metadata": {},
     "output_type": "execute_result"
    },
    {
     "data": {
      "image/png": "[encoded data removed]",
      "text/plain": [
       "<Figure size 640x480 with 1 Axes>"
      ]
     },
     "metadata": {},
     "output_type": "display_data"
    }
   ],
   "source": [
    "plt.figure(0)\n",
    "plt.scatter(y_test, best_model.predict(X_test))\n",
    "plt.axline((0,0), slope=1, c='r')"
   ]
  },
  {
   "cell_type": "markdown",
   "id": "1ac5e75b-140a-42d5-a5a0-9ae9a4e39755",
   "metadata": {},
   "source": [
    "We can also compare the model to a naive predictor, like simply taking the average of overspent amount"
   ]
  },
  {
   "cell_type": "code",
   "execution_count": 137,
   "id": "a7cb18f5-bcc0-4a55-970a-de5391b60b5a",
   "metadata": {},
   "outputs": [
    {
     "data": {
      "text/plain": [
       "556.3749265488983"
      ]
     },
     "execution_count": 137,
     "metadata": {},
     "output_type": "execute_result"
    }
   ],
   "source": [
    "average_train_overspent = np.mean(y_train)\n",
    "y_predict_test = np.full(1767, average_train_overspent)\n",
    "mean_absolute_error(y_test, y_predict_test)"
   ]
  },
  {
   "cell_type": "code",
   "execution_count": 138,
   "id": "08a55ef3-b4a8-4f99-acf6-28bcf79eb733",
   "metadata": {},
   "outputs": [
    {
     "data": {
      "text/plain": [
       "-0.011135315589121841"
      ]
     },
     "execution_count": 138,
     "metadata": {},
     "output_type": "execute_result"
    }
   ],
   "source": [
    "r2_score(y_test, y_predict_test)"
   ]
  },
  {
   "cell_type": "markdown",
   "id": "8162d4c6-d43d-41c9-93ad-e39c7bb9d864",
   "metadata": {},
   "source": [
    "## Classification\n",
    "We again start by dividing everything into train, validation and test sets."
   ]
  },
  {
   "cell_type": "code",
   "execution_count": 139,
   "id": "5ab66431-5b82-4ff2-a818-66f8d9e9fe25",
   "metadata": {},
   "outputs": [],
   "source": [
    "X_train, X_valtest, y_train, y_valtest = sklearn.model_selection.train_test_split(final_data_class[:,:-1], final_data_class[:,-1], \n",
    "                                                                                  train_size=0.5, shuffle=False)\n",
    "X_val, X_test, y_val, y_test = sklearn.model_selection.train_test_split(X_valtest, y_valtest, train_size=0.5, shuffle=False)"
   ]
  },
  {
   "cell_type": "markdown",
   "id": "6f32db19-4de8-4993-a162-1548e455e8db",
   "metadata": {},
   "source": [
    "Once again we do a parameter search to find the best hyperparameters, using the validation set."
   ]
  },
  {
   "cell_type": "code",
   "execution_count": 141,
   "id": "804dc50f-ffd6-4b45-9efd-0ad2c253d677",
   "metadata": {},
   "outputs": [
    {
     "name": "stdout",
     "output_type": "stream",
     "text": [
      "n_estimators: 25, min_samples_split: 1, score: 0.6268403171007928\n",
      "n_estimators: 25, min_samples_split: 20, score: 0.6681766704416761\n",
      "n_estimators: 25, min_samples_split: 50, score: 0.6828992072480181\n",
      "n_estimators: 50, min_samples_split: 1, score: 0.6172140430351076\n",
      "n_estimators: 50, min_samples_split: 20, score: 0.6710079275198187\n",
      "n_estimators: 50, min_samples_split: 50, score: 0.6845979614949037\n",
      "n_estimators: 100, min_samples_split: 1, score: 0.6206115515288788\n",
      "n_estimators: 100, min_samples_split: 20, score: 0.6710079275198187\n",
      "n_estimators: 100, min_samples_split: 50, score: 0.6834654586636466\n",
      "n_estimators: 200, min_samples_split: 1, score: 0.6194790486976217\n",
      "n_estimators: 200, min_samples_split: 20, score: 0.67440543601359\n",
      "n_estimators: 200, min_samples_split: 50, score: 0.6845979614949037\n"
     ]
    }
   ],
   "source": [
    "best_score = -10000\n",
    "for n_est, min_split in product([25,50,100,200], [1,20,50]): #parameter search on 'n_estimators' and 'min_samples_split'\n",
    "    model = RandomForestClassifier(n_estimators = n_est, min_samples_split = min_split)\n",
    "    model.fit(X_train, y_train)\n",
    "    score = model.score(X_val, y_val)\n",
    "    print(\"n_estimators: {}, min_samples_split: {}, score: {}\".format(n_est, min_split, score))\n",
    "    if score > best_score:\n",
    "        best_score = score\n",
    "        best_param = n_est, min_split"
   ]
  },
  {
   "cell_type": "code",
   "execution_count": 143,
   "id": "f50a7750-b293-423e-a0ba-787623a2da57",
   "metadata": {},
   "outputs": [
    {
     "data": {
      "text/plain": [
       "0.7843803056027164"
      ]
     },
     "execution_count": 143,
     "metadata": {},
     "output_type": "execute_result"
    }
   ],
   "source": [
    "best_model = RandomForestClassifier(n_estimators = best_param[0], min_samples_split = best_param[1])\n",
    "best_model.fit(X_train, y_train)\n",
    "best_model.score(X_test, y_test)"
   ]
  },
  {
   "cell_type": "markdown",
   "id": "a2af49b2-6678-447e-9a4a-52023b01319a",
   "metadata": {},
   "source": [
    "Once again we compare to a naive model, this time simply the most common class."
   ]
  },
  {
   "cell_type": "code",
   "execution_count": 149,
   "id": "f83fe201-dd77-4e9a-a873-6d371b1166cd",
   "metadata": {},
   "outputs": [
    {
     "data": {
      "text/plain": [
       "0"
      ]
     },
     "execution_count": 149,
     "metadata": {},
     "output_type": "execute_result"
    }
   ],
   "source": [
    "most_common_class = np.bincount(y_test.astype(int)).argmax()"
   ]
  },
  {
   "cell_type": "code",
   "execution_count": null,
   "id": "6e1f1929-868e-474f-bb30-440b3fc86312",
   "metadata": {},
   "outputs": [],
   "source": []
  }
 ],
 "metadata": {
  "kernelspec": {
   "display_name": "Python 3 (ipykernel)",
   "language": "python",
   "name": "python3"
  },
  "language_info": {
   "codemirror_mode": {
    "name": "ipython",
    "version": 3
   },
   "file_extension": ".py",
   "mimetype": "text/x-python",
   "name": "python",
   "nbconvert_exporter": "python",
   "pygments_lexer": "ipython3",
   "version": "3.8.15"
  }
 },
 "nbformat": 4,
 "nbformat_minor": 5
}
